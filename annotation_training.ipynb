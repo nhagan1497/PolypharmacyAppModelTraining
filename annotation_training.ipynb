from ultralytics import YOLO
from ultralytics.data.converter import convert_coco

from sklearn.model_selection import train_test_split

import pandas as pd
import re
import yaml

from PIL import Image
import os
import json


root_dir = 'C:\\Users\\natha\\Documents\\PythonNotebooks\\yolo\\coco_converted\\'
image_dir = 'C:\\Users\\natha\\Documents\\PythonNotebooks\\yolo\\files\\image\\images\\gallery\\800\\'
image_dir_2 = 'C:\\Users\\natha\\Documents\\PythonNotebooks\\yolo\\files\\pill_pictures\\'


with open('files/instances_default.json') as file:
    labels = json.load(file)
with open('files/instances_default_two.json') as file:
    labels_2 = json.load(file)


for row in labels_2['images']:
    row['id'] = row['id'] + 10**6
for row in labels_2['annotations']:
    row['image_id'] = row['image_id'] + 10**6


annotations = labels['annotations'] + labels_2['annotations']
images = labels['images'] + labels_2['images']
image_ids = {item['image_id'] for item in annotations}

x_train, x_test = train_test_split(list(image_ids), train_size=0.85, random_state=42)

train_annotations = []
test_annotations = []

train_images = []
test_images = []

for annotation in annotations:
    if annotation['image_id'] in x_train:
        train_annotations.append(annotation)
    else:
        test_annotations.append(annotation)

for image in images:
    if image['id'] in x_train:
        train_images.append(image)
    elif image['id'] in x_test:
        test_images.append(image)


labels['annotations'] = train_annotations
labels['images'] = train_images

with open('files/annotations/train.json', 'w') as file:
    json.dump(labels, file)

labels['annotations'] = test_annotations
labels['images'] = test_images

with open('files/annotations/val.json', 'w') as file:
    json.dump(labels, file)



convert_coco(labels_dir='files/annotations')


os.makedirs('coco_converted/images/train/', exist_ok=True)
os.makedirs('coco_converted/images/val/', exist_ok=True)
for image in train_images:
    filename = image['file_name']
    if os.path.isfile(f'{image_dir}{filename}'):
        input_path = f'{image_dir}{filename}'
    else:
        input_path = f'{image_dir_2}{filename}'
    output_path = f'coco_converted/images/train/{filename}'

    with Image.open(input_path) as img:
        # Resize the image to 640x640
        img_resized = img.resize((640, 640))
    
        # Save the resized image to the output path
        img_resized.save(output_path)

for image in test_images:
    filename = image['file_name']
    if os.path.isfile(f'{image_dir}{filename}'):
        input_path = f'{image_dir}{filename}'
    else:
        input_path = f'{image_dir_2}{filename}'
    output_path = f'coco_converted/images/val/{filename}'

    with Image.open(input_path) as img:
        # Resize the image to 640x640
        img_resized = img.resize((640, 640))
    
        # Save the resized image to the output path
        img_resized.save(output_path)


{item['id'] - 1: item['name'] for item in labels['categories']}


def make_yaml_file():
    data = {
        'path': root_dir,  # dataset root dir
        'train': 'images/train',  # train images (relative to 'path') 4 images
        'val': 'images/val',  # val images (relative to 'path') 4 images
        'names': {item['id'] - 1: item['name'] for item in labels['categories']}
    }

    with open('files/pill_data.yaml', 'w') as file:
        yaml.dump(data, file, default_flow_style=False)
make_yaml_file()


model = YOLO("yolo11n.pt")
model.train(data='files/pill_data.yaml', epochs=300)


model.save('300_epoch_n.pt')


test_images = os.listdir('files/test_pictures')
test_images = [os.path.join('files/test_pictures', filename) for filename in test_images if filename[0] != '.']
test_images = [Image.open(filepath).resize((640, 640)) for filepath in test_images]
results = model(test_images)
